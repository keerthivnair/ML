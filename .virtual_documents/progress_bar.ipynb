import sys 
import time


def get_time_in_hhmmss(start=None):
    if start == None:
        return time.strftime("%Y/%m/%d %H:%M:%S")
    end = time.time()
    m,s= divmod(end-start,60)
    h,m= divmod(end-start,60)
    time_str = "%02d:%02d:%02d"%(h,m,s)
    return time_str
    


def print_progress(iteration,total):
    str_format = "{0:.0f}"
    percents = str_format.format(100 * (iteration /  float(total)))
    filled_length = int(round(100 * (iteration /  float(total))))
    bar = '█' * filled_length + '-' * (100 - filled_length)
    sys.stdout.write('\r |%s| %s%%' % (bar, percents))
    sys.stdout.flush()
    if iteration == total:
        sys.stdout.write('\n')
        


total = 50
print("Started at :",get_time_in_hhmmss())
start = time.time()
for i in range(51):
        print_progress(i, total)
        time.sleep(0.10)
print("Finished at:", get_time_in_hhmmss())
print("Elapsed Time:", get_time_in_hhmmss(start))   



