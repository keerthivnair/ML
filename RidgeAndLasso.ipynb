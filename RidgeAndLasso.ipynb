{
 "cells": [
  {
   "cell_type": "code",
   "execution_count": 12,
   "id": "294769dd-24a0-4729-b0ec-b63a6062d9d5",
   "metadata": {},
   "outputs": [],
   "source": [
    "import opendatasets as od"
   ]
  },
  {
   "cell_type": "code",
   "execution_count": 13,
   "id": "f36707bf-9910-4c2f-a59a-0ae4dd4df18c",
   "metadata": {},
   "outputs": [],
   "source": [
    "dataset='https://www.kaggle.com/datasets/rahmadadeakbar/california-housing-train'"
   ]
  },
  {
   "cell_type": "code",
   "execution_count": 14,
   "id": "7f141779-b61f-4d92-b35d-e35e088eedc6",
   "metadata": {},
   "outputs": [
    {
     "name": "stdout",
     "output_type": "stream",
     "text": [
      "Skipping, found downloaded files in \".\\california-housing-train\" (use force=True to force download)\n"
     ]
    }
   ],
   "source": [
    "od.download(dataset)"
   ]
  },
  {
   "cell_type": "code",
   "execution_count": 15,
   "id": "c26c7194-f32d-4bee-8d5b-b9cfd71a9afd",
   "metadata": {},
   "outputs": [],
   "source": [
    "list_dir='.'"
   ]
  },
  {
   "cell_type": "code",
   "execution_count": 16,
   "id": "3243307f-ad1b-4273-bafa-4bdb178f8958",
   "metadata": {},
   "outputs": [
    {
     "ename": "NameError",
     "evalue": "name 'os' is not defined",
     "output_type": "error",
     "traceback": [
      "\u001b[31m---------------------------------------------------------------------------\u001b[39m",
      "\u001b[31mNameError\u001b[39m                                 Traceback (most recent call last)",
      "\u001b[36mCell\u001b[39m\u001b[36m \u001b[39m\u001b[32mIn[16]\u001b[39m\u001b[32m, line 1\u001b[39m\n\u001b[32m----> \u001b[39m\u001b[32m1\u001b[39m \u001b[43mos\u001b[49m.listdir(list_dir)\n",
      "\u001b[31mNameError\u001b[39m: name 'os' is not defined"
     ]
    }
   ],
   "source": [
    "os.listdir(list_dir)"
   ]
  },
  {
   "cell_type": "code",
   "execution_count": null,
   "id": "9bf5a4da-3917-4eeb-8dd8-e4be178e4dcb",
   "metadata": {},
   "outputs": [],
   "source": [
    "import pandas as pd"
   ]
  },
  {
   "cell_type": "code",
   "execution_count": null,
   "id": "f0eaeb8c-f49a-4dfb-892c-31ac3ffa5223",
   "metadata": {},
   "outputs": [],
   "source": [
    "df=pd.read_csv('./california-housing-train/california_housing_train.csv')"
   ]
  },
  {
   "cell_type": "code",
   "execution_count": null,
   "id": "39788963-35d9-4bd7-8c19-4b6b906076a3",
   "metadata": {},
   "outputs": [],
   "source": [
    "df.head()"
   ]
  },
  {
   "cell_type": "code",
   "execution_count": null,
   "id": "ad7a3163-6085-4687-8c41-a729c68e1c65",
   "metadata": {},
   "outputs": [],
   "source": [
    "df.corr()['total_bedrooms']"
   ]
  },
  {
   "cell_type": "code",
   "execution_count": null,
   "id": "0c32861a-f63b-44a9-82cd-5719b98cf5d0",
   "metadata": {},
   "outputs": [],
   "source": [
    "bedrooms=df['total_bedrooms']"
   ]
  },
  {
   "cell_type": "code",
   "execution_count": null,
   "id": "4f56f4e7-e16b-4cf6-a7e3-16e09baddc70",
   "metadata": {},
   "outputs": [],
   "source": [
    "df=df.drop(['total_bedrooms','longitude','latitude','housing_median_age','median_income','median_house_value'],axis=1)\n",
    "df['bedrooms']=bedrooms\n",
    "df"
   ]
  },
  {
   "cell_type": "code",
   "execution_count": null,
   "id": "d87776d9-4ba0-4609-ac95-5e96854af12a",
   "metadata": {},
   "outputs": [],
   "source": [
    "from sklearn.model_selection import train_test_split"
   ]
  },
  {
   "cell_type": "code",
   "execution_count": null,
   "id": "60c2e402-835e-484f-8115-292c5710e96d",
   "metadata": {},
   "outputs": [],
   "source": [
    "import numpy as np"
   ]
  },
  {
   "cell_type": "code",
   "execution_count": null,
   "id": "2d81c695-8226-4d01-87bf-8f67fc86683d",
   "metadata": {},
   "outputs": [],
   "source": [
    "df_np=df.to_numpy()"
   ]
  },
  {
   "cell_type": "code",
   "execution_count": null,
   "id": "f4f9ee8f-0745-4bb0-a017-cdbd3e0d3b8e",
   "metadata": {},
   "outputs": [],
   "source": [
    "X=df_np[:,0:3]"
   ]
  },
  {
   "cell_type": "code",
   "execution_count": null,
   "id": "69cda918-8d94-4965-bb6f-2589682ccdfe",
   "metadata": {},
   "outputs": [],
   "source": [
    "X"
   ]
  },
  {
   "cell_type": "code",
   "execution_count": null,
   "id": "132deefc-1c41-4a85-abfc-26b0943e6496",
   "metadata": {},
   "outputs": [],
   "source": [
    "y=df_np[:,3:]"
   ]
  },
  {
   "cell_type": "code",
   "execution_count": null,
   "id": "3e5d2f4f-6beb-4921-a8f7-30327e916fa2",
   "metadata": {},
   "outputs": [],
   "source": [
    "y"
   ]
  },
  {
   "cell_type": "code",
   "execution_count": null,
   "id": "31dd3723-09c1-4bf0-8db0-74f5b60586b6",
   "metadata": {},
   "outputs": [],
   "source": [
    "X_train,X_test,y_train,y_test=train_test_split(X,y,test_size=0.2,random_state=12)"
   ]
  },
  {
   "cell_type": "code",
   "execution_count": null,
   "id": "296d06a4-4923-4a47-995b-3ded8076b26a",
   "metadata": {},
   "outputs": [],
   "source": [
    "X_train.shape"
   ]
  },
  {
   "cell_type": "code",
   "execution_count": null,
   "id": "f9e39e5f-9402-4f7e-8689-40f1582e0f2c",
   "metadata": {},
   "outputs": [],
   "source": [
    "X_test.shape"
   ]
  },
  {
   "cell_type": "code",
   "execution_count": null,
   "id": "effbefd9-fe33-47dc-a2ba-0351cce8c490",
   "metadata": {},
   "outputs": [],
   "source": [
    "from sklearn.linear_model import LinearRegression"
   ]
  },
  {
   "cell_type": "code",
   "execution_count": null,
   "id": "7483cecc-60cb-4732-986e-f241a735a72c",
   "metadata": {},
   "outputs": [],
   "source": [
    "sklearn_model=LinearRegression().fit(X_train,y_train)"
   ]
  },
  {
   "cell_type": "code",
   "execution_count": null,
   "id": "6443693c-f53d-4525-aa74-b51713fc4791",
   "metadata": {},
   "outputs": [],
   "source": [
    "sklearn_y_predictions = sklearn_model.predict(X_test)\n",
    "sklearn_y_predictions"
   ]
  },
  {
   "cell_type": "code",
   "execution_count": null,
   "id": "4e8eb272-d4a7-4424-9bc3-d77bfe4b9964",
   "metadata": {},
   "outputs": [],
   "source": [
    "y_test"
   ]
  },
  {
   "cell_type": "code",
   "execution_count": null,
   "id": "ff2d4dec-addc-4a8e-b443-dfe30a39783d",
   "metadata": {},
   "outputs": [],
   "source": [
    "from sklearn.metrics import mean_absolute_error"
   ]
  },
  {
   "cell_type": "code",
   "execution_count": null,
   "id": "8c08aef4-3723-4f94-be60-6d9a44916589",
   "metadata": {},
   "outputs": [],
   "source": [
    "mean_absolute_error(sklearn_y_predictions,y_test)"
   ]
  },
  {
   "cell_type": "code",
   "execution_count": null,
   "id": "e473a143-2302-4b43-acfe-92d1009d9f86",
   "metadata": {},
   "outputs": [],
   "source": [
    "import matplotlib.pyplot as plt"
   ]
  },
  {
   "cell_type": "code",
   "execution_count": null,
   "id": "550c072a-1b50-4bd4-af6b-7b9945430bb2",
   "metadata": {},
   "outputs": [],
   "source": [
    "plt.scatter(sklearn_y_predictions,y_test,s=50,c='red')"
   ]
  },
  {
   "cell_type": "code",
   "execution_count": null,
   "id": "08157a12-face-4e0f-8993-43bb2658f376",
   "metadata": {},
   "outputs": [],
   "source": [
    "from sklearn.linear_model import Ridge"
   ]
  },
  {
   "cell_type": "markdown",
   "id": "13fbabcd-f4f4-46b8-91a8-24fd4a608b43",
   "metadata": {},
   "source": [
    "# For Cross Validation and Hypertuning import below"
   ]
  },
  {
   "cell_type": "code",
   "execution_count": null,
   "id": "5a7afcfd-cf97-4d77-ab5b-18d4a668ba23",
   "metadata": {},
   "outputs": [],
   "source": [
    "from sklearn.model_selection import GridSearchCV"
   ]
  },
  {
   "cell_type": "code",
   "execution_count": null,
   "id": "68f4094d-58ab-4da8-87a0-70ec164c6bb9",
   "metadata": {},
   "outputs": [],
   "source": [
    "ridge_regressor=Ridge()"
   ]
  },
  {
   "cell_type": "code",
   "execution_count": null,
   "id": "f8e0113d-7468-4e76-8367-6da6ecef32c8",
   "metadata": {},
   "outputs": [],
   "source": [
    "ridge_regressor"
   ]
  },
  {
   "cell_type": "code",
   "execution_count": null,
   "id": "4ecd1c83-5286-4de2-abae-7f22baf59a9e",
   "metadata": {},
   "outputs": [],
   "source": [
    "parameters={'alpha':[1,2,3,5,10,20,30,40,50,60,70,80,90]}\n",
    "ridgecv=GridSearchCV(ridge_regressor,parameters,scoring='neg_mean_squared_error',cv=5)\n",
    "ridgecv.fit(X_train,y_train)"
   ]
  },
  {
   "cell_type": "code",
   "execution_count": null,
   "id": "2fe289db-b6cd-4bb7-8a6b-e237046b05e2",
   "metadata": {},
   "outputs": [],
   "source": [
    "print(ridgecv.best_params_)"
   ]
  },
  {
   "cell_type": "code",
   "execution_count": null,
   "id": "243c71bb-e41d-43cb-bd93-61eb4021420c",
   "metadata": {},
   "outputs": [],
   "source": [
    "print(ridgecv.best_score_)"
   ]
  },
  {
   "cell_type": "code",
   "execution_count": null,
   "id": "75e544be-a27b-4d14-9ee4-c6a390567dde",
   "metadata": {},
   "outputs": [],
   "source": [
    "ridge_pred=ridgecv.predict(X_test)"
   ]
  },
  {
   "cell_type": "code",
   "execution_count": null,
   "id": "07774f01-bc39-4932-8cdf-08def0bd5b11",
   "metadata": {},
   "outputs": [],
   "source": [
    "y_test"
   ]
  },
  {
   "cell_type": "code",
   "execution_count": null,
   "id": "3d798492-d2a8-4152-abef-fc1cc19f450a",
   "metadata": {},
   "outputs": [],
   "source": [
    "import seaborn as sns\n",
    "sns.displot(ridge_pred,y_test,kind='kde')\n",
    "plt.show()"
   ]
  },
  {
   "cell_type": "code",
   "execution_count": null,
   "id": "65d06a3f-c209-4ebb-aaec-ae586be44785",
   "metadata": {},
   "outputs": [],
   "source": []
  }
 ],
 "metadata": {
  "kernelspec": {
   "display_name": "Python 3 (ipykernel)",
   "language": "python",
   "name": "python3"
  },
  "language_info": {
   "codemirror_mode": {
    "name": "ipython",
    "version": 3
   },
   "file_extension": ".py",
   "mimetype": "text/x-python",
   "name": "python",
   "nbconvert_exporter": "python",
   "pygments_lexer": "ipython3",
   "version": "3.12.4"
  }
 },
 "nbformat": 4,
 "nbformat_minor": 5
}
